{
 "cells": [
  {
   "cell_type": "markdown",
   "id": "d7e1965b",
   "metadata": {},
   "source": [
    "# Importing Movie Review Analysis"
   ]
  },
  {
   "cell_type": "code",
   "execution_count": 1,
   "id": "7fb5d2f7",
   "metadata": {},
   "outputs": [
    {
     "name": "stdout",
     "output_type": "stream",
     "text": [
      "You are now seeing the sentiment analysis of Endgame with 500 reviews\n",
      "Pos Reviews are 80.40%  (402 reviews)\n",
      "Neg Reviews are 15.40%  (77 reviews)\n",
      "Neu Reviews are 4.20%  (21 reviews)\n"
     ]
    }
   ],
   "source": [
    "import import_ipynb\n",
    "from moviereviews import MovieAnalysis"
   ]
  },
  {
   "cell_type": "code",
   "execution_count": null,
   "id": "f32f3bf2",
   "metadata": {},
   "outputs": [
    {
     "name": "stdout",
     "output_type": "stream",
     "text": [
      "['Endgame', 'Forest_gump', 'Johnwick', 'Joker', 'Morbius', 'Pulpfiction', 'Spiderman', 'Avengers', 'Darkknight', 'Ragnarok']\n"
     ]
    }
   ],
   "source": [
    "enc = MovieAnalysis()\n",
    "enc.StartAnalysis()"
   ]
  },
  {
   "cell_type": "code",
   "execution_count": null,
   "id": "7fb97f5e",
   "metadata": {},
   "outputs": [],
   "source": []
  }
 ],
 "metadata": {
  "kernelspec": {
   "display_name": "Python 3 (ipykernel)",
   "language": "python",
   "name": "python3"
  },
  "language_info": {
   "codemirror_mode": {
    "name": "ipython",
    "version": 3
   },
   "file_extension": ".py",
   "mimetype": "text/x-python",
   "name": "python",
   "nbconvert_exporter": "python",
   "pygments_lexer": "ipython3",
   "version": "3.11.5"
  }
 },
 "nbformat": 4,
 "nbformat_minor": 5
}
