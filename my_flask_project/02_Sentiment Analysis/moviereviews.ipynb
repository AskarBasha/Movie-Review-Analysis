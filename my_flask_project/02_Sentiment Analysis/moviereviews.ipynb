{
 "cells": [
  {
   "cell_type": "markdown",
   "id": "c1fc6df6",
   "metadata": {},
   "source": [
    "# Sentimental Analysis\n"
   ]
  },
  {
   "cell_type": "markdown",
   "id": "115dcbc3",
   "metadata": {},
   "source": [
    "## Movie Review Analysis"
   ]
  },
  {
   "cell_type": "code",
   "execution_count": 4,
   "id": "021a70c9",
   "metadata": {},
   "outputs": [],
   "source": [
    "class MovieAnalysis():    \n",
    "    def GetMovieName(self):\n",
    "        from IPython.display import clear_output\n",
    "        import pickle\n",
    "        with open('stored_data.pkl', 'rb') as file:\n",
    "            rev = pickle.load(file)\n",
    "\n",
    "        print(list(rev.keys()))\n",
    "        mname = input('Enter Movie name from above list:     ')\n",
    "        if mname in rev.keys():\n",
    "            try:\n",
    "                NoOfReviews = int(input(f'Enter the number of reviews you \\\n",
    "                want to analyse. {mname} has {len(rev[mname])} reviews:   '))\n",
    "                if NoOfReviews < len(rev[mname]):\n",
    "                    pass\n",
    "                else:\n",
    "                    NoOfReviews = 0\n",
    "                    print(f'Execute again and enter the whole number less \\\n",
    "                    than {len(rev[mname])}in this step')\n",
    "            except:\n",
    "                NoOfReviews = 0\n",
    "                print('Execute again and enter the whole number in this step')\n",
    "        else:\n",
    "            NoOfReviews = 0\n",
    "            print(mname, 'does not exist. Enter the existing movie name')\n",
    "        clear_output()\n",
    "        return mname, NoOfReviews, rev\n",
    "    \n",
    "    def GetSentiment(self,mname, NoOfReviews, rev):\n",
    "        import random\n",
    "        from textblob import TextBlob\n",
    "        pos=neg=neu=0\n",
    "        if NoOfReviews != 0:\n",
    "            random.seed(10)\n",
    "            selected_reviews = [random.choice(rev[mname]) for i in range(NoOfReviews)]\n",
    "            for i in selected_reviews:\n",
    "                senti = TextBlob(i[0]).polarity\n",
    "                if senti > 0:\n",
    "                    pos+=1\n",
    "                elif senti < 0:\n",
    "                    neg+=1\n",
    "                else:\n",
    "                    neu+=1\n",
    "        return pos, neg, neu, NoOfReviews\n",
    "\n",
    "    def Analyse(self,pos, neg, neu, NoOfReviews):\n",
    "        try:\n",
    "            print(f'Pos Reviews are {(pos/NoOfReviews)*100:.2f}%  ({pos} reviews)')\n",
    "            print(f'Neg Reviews are {(neg/NoOfReviews)*100:.2f}%  ({neg} reviews)')\n",
    "            print(f'Neu Reviews are {(neu/NoOfReviews)*100:.2f}%  ({neu} reviews)')\n",
    "        except Exception as exc:\n",
    "            print('Something went wrong. Try again')\n",
    "            print(exc, 'is not permitted')\n",
    "\n",
    "    def StartAnalysis(self):\n",
    "        mname, NoOfReviews, rev = MovieAnalysis.GetMovieName(self)\n",
    "        pos, neg, neu, NoOfReviews = MovieAnalysis.GetSentiment(self,mname, NoOfReviews, rev)\n",
    "        print(f'You are now seeing the sentiment analysis of {mname} with {NoOfReviews} reviews')\n",
    "        MovieAnalysis.Analyse(self,pos, neg, neu, NoOfReviews)"
   ]
  },
  {
   "cell_type": "code",
   "execution_count": 5,
   "id": "116155c5",
   "metadata": {},
   "outputs": [
    {
     "name": "stdout",
     "output_type": "stream",
     "text": [
      "You are now seeing the sentiment analysis of Endgame with 500 reviews\n",
      "Pos Reviews are 80.40%  (402 reviews)\n",
      "Neg Reviews are 15.40%  (77 reviews)\n",
      "Neu Reviews are 4.20%  (21 reviews)\n"
     ]
    }
   ],
   "source": [
    "myanalysis = MovieAnalysis()\n",
    "myanalysis.StartAnalysis()"
   ]
  },
  {
   "cell_type": "code",
   "execution_count": 9,
   "id": "6880d96b",
   "metadata": {},
   "outputs": [],
   "source": [
    "import pickle\n",
    "with open('MovieAnalysis.pkl', 'wb') as file:\n",
    "    pickle.dump(MovieAnalysis, file)"
   ]
  },
  {
   "cell_type": "code",
   "execution_count": null,
   "id": "54b8f5ed",
   "metadata": {},
   "outputs": [],
   "source": []
  }
 ],
 "metadata": {
  "kernelspec": {
   "display_name": "Python 3 (ipykernel)",
   "language": "python",
   "name": "python3"
  },
  "language_info": {
   "codemirror_mode": {
    "name": "ipython",
    "version": 3
   },
   "file_extension": ".py",
   "mimetype": "text/x-python",
   "name": "python",
   "nbconvert_exporter": "python",
   "pygments_lexer": "ipython3",
   "version": "3.11.5"
  }
 },
 "nbformat": 4,
 "nbformat_minor": 5
}
